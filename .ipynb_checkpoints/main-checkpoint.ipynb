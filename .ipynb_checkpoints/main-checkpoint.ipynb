{
 "cells": [
  {
   "cell_type": "code",
   "execution_count": 1,
   "id": "d7b2f1a9",
   "metadata": {},
   "outputs": [],
   "source": [
    "import numpy as np \n",
    "import pandas as pd \n",
    "import matplotlib.pyplot as plt\n",
    "import plotly.express as px\n",
    "from sklearn.feature_selection import RFE\n",
    "from sklearn.model_selection import train_test_split\n",
    "from sklearn.linear_model import LogisticRegression\n",
    "from sklearn.metrics import classification_report\n",
    "from sklearn.metrics import confusion_matrix, ConfusionMatrixDisplay \n",
    "import statsmodels.api as sm\n",
    "import statsmodels.formula.api as smf\n",
    "\n",
    "dataset = pd.read_csv('financial_fraud_detection_dataset.csv')"
   ]
  },
  {
   "cell_type": "code",
   "execution_count": 2,
   "id": "3410dc32",
   "metadata": {},
   "outputs": [
    {
     "data": {
      "text/html": [
       "<div>\n",
       "<style scoped>\n",
       "    .dataframe tbody tr th:only-of-type {\n",
       "        vertical-align: middle;\n",
       "    }\n",
       "\n",
       "    .dataframe tbody tr th {\n",
       "        vertical-align: top;\n",
       "    }\n",
       "\n",
       "    .dataframe thead th {\n",
       "        text-align: right;\n",
       "    }\n",
       "</style>\n",
       "<table border=\"1\" class=\"dataframe\">\n",
       "  <thead>\n",
       "    <tr style=\"text-align: right;\">\n",
       "      <th></th>\n",
       "      <th>amount</th>\n",
       "      <th>transaction_type</th>\n",
       "      <th>merchant_category</th>\n",
       "      <th>location</th>\n",
       "      <th>device_used</th>\n",
       "      <th>is_fraud</th>\n",
       "      <th>spending_deviation_score</th>\n",
       "      <th>velocity_score</th>\n",
       "      <th>geo_anomaly_score</th>\n",
       "      <th>payment_channel</th>\n",
       "    </tr>\n",
       "  </thead>\n",
       "  <tbody>\n",
       "    <tr>\n",
       "      <th>0</th>\n",
       "      <td>343.78</td>\n",
       "      <td>withdrawal</td>\n",
       "      <td>utilities</td>\n",
       "      <td>Tokyo</td>\n",
       "      <td>mobile</td>\n",
       "      <td>False</td>\n",
       "      <td>-0.21</td>\n",
       "      <td>3</td>\n",
       "      <td>0.22</td>\n",
       "      <td>card</td>\n",
       "    </tr>\n",
       "    <tr>\n",
       "      <th>1</th>\n",
       "      <td>419.65</td>\n",
       "      <td>withdrawal</td>\n",
       "      <td>online</td>\n",
       "      <td>Toronto</td>\n",
       "      <td>atm</td>\n",
       "      <td>False</td>\n",
       "      <td>-0.14</td>\n",
       "      <td>7</td>\n",
       "      <td>0.96</td>\n",
       "      <td>ACH</td>\n",
       "    </tr>\n",
       "    <tr>\n",
       "      <th>2</th>\n",
       "      <td>2773.86</td>\n",
       "      <td>deposit</td>\n",
       "      <td>other</td>\n",
       "      <td>London</td>\n",
       "      <td>pos</td>\n",
       "      <td>False</td>\n",
       "      <td>-1.78</td>\n",
       "      <td>20</td>\n",
       "      <td>0.89</td>\n",
       "      <td>card</td>\n",
       "    </tr>\n",
       "    <tr>\n",
       "      <th>3</th>\n",
       "      <td>1666.22</td>\n",
       "      <td>deposit</td>\n",
       "      <td>online</td>\n",
       "      <td>Sydney</td>\n",
       "      <td>pos</td>\n",
       "      <td>False</td>\n",
       "      <td>-0.60</td>\n",
       "      <td>6</td>\n",
       "      <td>0.37</td>\n",
       "      <td>wire_transfer</td>\n",
       "    </tr>\n",
       "    <tr>\n",
       "      <th>4</th>\n",
       "      <td>24.43</td>\n",
       "      <td>transfer</td>\n",
       "      <td>utilities</td>\n",
       "      <td>Toronto</td>\n",
       "      <td>mobile</td>\n",
       "      <td>False</td>\n",
       "      <td>0.79</td>\n",
       "      <td>13</td>\n",
       "      <td>0.27</td>\n",
       "      <td>ACH</td>\n",
       "    </tr>\n",
       "  </tbody>\n",
       "</table>\n",
       "</div>"
      ],
      "text/plain": [
       "    amount transaction_type merchant_category location device_used  is_fraud  \\\n",
       "0   343.78       withdrawal         utilities    Tokyo      mobile     False   \n",
       "1   419.65       withdrawal            online  Toronto         atm     False   \n",
       "2  2773.86          deposit             other   London         pos     False   \n",
       "3  1666.22          deposit            online   Sydney         pos     False   \n",
       "4    24.43         transfer         utilities  Toronto      mobile     False   \n",
       "\n",
       "   spending_deviation_score  velocity_score  geo_anomaly_score payment_channel  \n",
       "0                     -0.21               3               0.22            card  \n",
       "1                     -0.14               7               0.96             ACH  \n",
       "2                     -1.78              20               0.89            card  \n",
       "3                     -0.60               6               0.37   wire_transfer  \n",
       "4                      0.79              13               0.27             ACH  "
      ]
     },
     "execution_count": 2,
     "metadata": {},
     "output_type": "execute_result"
    }
   ],
   "source": [
    "# Tidying dataset \n",
    "dataset = dataset.drop(['transaction_id', 'timestamp', 'sender_account', 'receiver_account', 'fraud_type', 'time_since_last_transaction', 'ip_address', 'device_hash'], axis=1)\n",
    "\n",
    "# Display all the columns of the dataset \n",
    "dataset.head(5)"
   ]
  },
  {
   "cell_type": "markdown",
   "id": "124bebb7",
   "metadata": {},
   "source": [
    "## Introduction \n",
    "\n",
    "Financial fraud  happens when someone takes money or other assets from you illegally, and there are many different types types such as identity, payment, account takeover, etc. Especially due to the growing banking system and the financial technologies, we would like to research and learn more into what could be used to determine whether a transaction is fraud or not, and which category(ies) would be more important than others for detection.\n",
    "\n",
    "Our goal for this project is to detect financial fraud using machine learning given synthetical data. We would like to be able to detect whether a transaction is fraud or not, and what type of fraud it would be.\n",
    "\n",
    "## Variable Description\n",
    "\n",
    "There were a total of 18 variables in the original dataset which we had removed for 10. \n",
    "\n",
    "The following variables are the ones we will focus on: \n",
    "\n",
    "- amount (USD)\n",
    "- transaction_type: type of transaction [deposit,  withdrawal, transfer, payment]\n",
    "- merchant_category: business category involved in transaction [retail, travel, online, utilities, entertainment, etc...]\n",
    "- location: location from where transaction was initiated\n",
    "- device_used: device type used [mobile, web, atm, pos]\n",
    "- is_fraud: boolean flag indicating whether the transaction was fraudulent [true, false]\n",
    "- spending_deviation_score: deviation from normal spending pattern\n",
    "- velocity_score: number of transactions over a recent period\n",
    "- geo_anomaly_score: measure of unusual geographic transaction behaviour [0, 1]\n",
    "- payment_channel: card, ACH, wire_transfer, UPI\n"
   ]
  },
  {
   "cell_type": "code",
   "execution_count": 3,
   "id": "a4b818a2",
   "metadata": {},
   "outputs": [],
   "source": [
    "# We want to find the correlation between the features and the target variable 'is_fraud'\n",
    "dataset = pd.get_dummies(dataset, columns=['merchant_category', 'location', 'payment_channel', 'device_used', 'transaction_type'])"
   ]
  },
  {
   "cell_type": "markdown",
   "id": "a6f8dc58",
   "metadata": {},
   "source": [
    "To improve model clarity, we can first remove a few irrelevant variables first. The variables transaction_id, timestamp, sender_account, receiver_account, ip_address and device_hash provide arbitriary technical details, making it unlikely for these variables to be as helpful for detecting a fraud transaction.\n",
    "\n",
    "Linear regression relies on numerial data as it uses mathematical operations, like addition, subtraction, etc., to fit a linear equation to observed data. However, this dataset has multiple categorical variables, so we first need to make these into indicator variables. This is essential, as it converts categories into a binary variable, making linear regression possible with these variables. We will use the `get-dummies` function from the Pandas library to do this."
   ]
  },
  {
   "cell_type": "markdown",
   "id": "0c2d9438",
   "metadata": {},
   "source": [
    "To start, we are going to use the Logistic Regression model, since it provides a binary classification which is what we need for is fraud or is not fraud. We will also be using a confusion matrix to check whether there are True Positives, False Negatives, True Negatives, and False positives.\n",
    "\n",
    "We decided to set it into three sets; training, validation, and test set.\n",
    "Training set (X_train, y_train) is the sample of data used to fit the model.\n",
    "Validation set (X_test, will be used to provide evaluation of how much a model fits on the training set while training the model and model hyperparameters.\n",
    "Test dataset is the sampel of dataset used to provide an unbiased evaluation of the final model for in the training set."
   ]
  },
  {
   "cell_type": "code",
   "execution_count": 7,
   "id": "a0726c3e",
   "metadata": {},
   "outputs": [
    {
     "name": "stdout",
     "output_type": "stream",
     "text": [
      "Confusion Matrix for Validation Set:\n",
      "[[1446025       0]\n",
      " [  53975       0]]\n"
     ]
    },
    {
     "data": {
      "image/png": "[encoded data removed]",
      "text/plain": [
       "<Figure size 640x480 with 2 Axes>"
      ]
     },
     "metadata": {},
     "output_type": "display_data"
    }
   ],
   "source": [
    "# Split the dataset into training and testing sets\n",
    "# 60% of the data will be training, with 20% for validation and 20% for testing\n",
    "X_train_val, X_test, y_train_val, y_test = train_test_split(dataset.drop('is_fraud', axis=1), dataset['is_fraud'], train_size=0.6, random_state=42)\n",
    "# Further split the training set into training and validation sets\n",
    "X_train, X_val, y_train, y_val = train_test_split(X_train_val, y_train_val, test_size=0.5, random_state=42)\n",
    "\n",
    "# Fit the Logistic Regression model \n",
    "clf = LogisticRegression(max_iter=10000)\n",
    "clf.fit(X_train, y_train) \n",
    "\n",
    "# Predict on the validation set\n",
    "y_pred_val = clf.predict(X_val)\n",
    "conf_matrix_val = confusion_matrix(y_val, y_pred_val, labels=clf.classes_)\n",
    "display = ConfusionMatrixDisplay(confusion_matrix=conf_matrix_val, display_labels=clf.classes_)\n",
    "display.plot()\n",
    "\n",
    "print(\"Confusion Matrix for Validation Set:\")\n",
    "print(conf_matrix_val)"
   ]
  },
  {
   "cell_type": "markdown",
   "id": "3c51a277",
   "metadata": {},
   "source": [
    "From this confusion matrix, we can see that that all scenario is considered non-fraud, which is bad because fraud is never detected. Because of the huge imbalance of data, we are not surprised with the current data that we have. We started to try different techniques and models in order to create a more balanced and accuracy result."
   ]
  },
  {
   "cell_type": "code",
   "execution_count": 5,
   "id": "51d44fa1",
   "metadata": {},
   "outputs": [
    {
     "name": "stdout",
     "output_type": "stream",
     "text": [
      "                           Generalized Linear Model Regression Results                           \n",
      "=================================================================================================\n",
      "Dep. Variable:     ['is_fraud[False]', 'is_fraud[True]']   No. Observations:               450000\n",
      "Model:                                               GLM   Df Residuals:                   449972\n",
      "Model Family:                                   Binomial   Df Model:                           27\n",
      "Link Function:                                     Logit   Scale:                          1.0000\n",
      "Method:                                             IRLS   Log-Likelihood:                -69665.\n",
      "Date:                                   Fri, 18 Jul 2025   Deviance:                   1.3933e+05\n",
      "Time:                                           23:11:24   Pearson chi2:                 4.50e+05\n",
      "No. Iterations:                                        8   Pseudo R-squ. (CS):          4.412e-05\n",
      "Covariance Type:                               nonrobust                                         \n",
      "===========================================================================================================\n",
      "                                              coef    std err          z      P>|z|      [0.025      0.975]\n",
      "-----------------------------------------------------------------------------------------------------------\n",
      "Intercept                                   1.6621      0.012    136.753      0.000       1.638       1.686\n",
      "location_Dubai[T.True]                      0.2029      0.021      9.541      0.000       0.161       0.245\n",
      "location_London[T.True]                     0.2134      0.021     10.022      0.000       0.172       0.255\n",
      "transaction_type_withdrawal[T.True]         0.4129      0.014     29.217      0.000       0.385       0.441\n",
      "transaction_type_transfer[T.True]           0.3971      0.017     24.020      0.000       0.365       0.429\n",
      "device_used_web[T.True]                     0.4343      0.014     30.397      0.000       0.406       0.462\n",
      "device_used_pos[T.True]                     0.4038      0.014     28.563      0.000       0.376       0.431\n",
      "transaction_type_payment[T.True]            0.4111      0.016     26.436      0.000       0.381       0.442\n",
      "transaction_type_deposit[T.True]            0.4410      0.025     17.445      0.000       0.391       0.491\n",
      "device_used_atm[T.True]                     0.4195      0.014     29.518      0.000       0.392       0.447\n",
      "device_used_mobile[T.True]                  0.4045      0.014     28.553      0.000       0.377       0.432\n",
      "payment_channel_wire_transfer[T.True]       0.4243      0.014     29.828      0.000       0.396       0.452\n",
      "payment_channel_card[T.True]                0.4312      0.014     30.189      0.000       0.403       0.459\n",
      "payment_channel_ACH[T.True]                 0.3994      0.014     28.271      0.000       0.372       0.427\n",
      "payment_channel_UPI[T.True]                 0.4072      0.014     28.743      0.000       0.379       0.435\n",
      "location_Tokyo[T.True]                      0.2055      0.021      9.691      0.000       0.164       0.247\n",
      "location_Singapore[T.True]                  0.1870      0.021      8.913      0.000       0.146       0.228\n",
      "location_Berlin[T.True]                     0.2273      0.021     10.621      0.000       0.185       0.269\n",
      "location_Sydney[T.True]                     0.2356      0.022     10.943      0.000       0.193       0.278\n",
      "Q(\"location_New York\")[T.True]              0.1930      0.021      9.130      0.000       0.152       0.234\n",
      "location_Toronto[T.True]                    0.1975      0.021      9.336      0.000       0.156       0.239\n",
      "merchant_category_utilities[T.True]         0.2136      0.021     10.046      0.000       0.172       0.255\n",
      "merchant_category_restaurant[T.True]        0.2179      0.021     10.236      0.000       0.176       0.260\n",
      "merchant_category_retail[T.True]            0.2178      0.021     10.219      0.000       0.176       0.260\n",
      "merchant_category_other[T.True]             0.2028      0.021      9.582      0.000       0.161       0.244\n",
      "merchant_category_entertainment[T.True]     0.1855      0.021      8.810      0.000       0.144       0.227\n",
      "merchant_category_online[T.True]            0.2102      0.021      9.853      0.000       0.168       0.252\n",
      "merchant_category_travel[T.True]            0.2173      0.021     10.185      0.000       0.175       0.259\n",
      "merchant_category_grocery[T.True]           0.1969      0.021      9.293      0.000       0.155       0.238\n",
      "geo_anomaly_score                          -0.0350      0.028     -1.261      0.207      -0.089       0.019\n",
      "spending_deviation_score                    0.0138      0.008      1.731      0.083      -0.002       0.030\n",
      "velocity_score                             -0.0015      0.001     -1.078      0.281      -0.004       0.001\n",
      "amount                                  -3.404e-06   3.02e-05     -0.113      0.910   -6.26e-05    5.58e-05\n",
      "===========================================================================================================\n"
     ]
    }
   ],
   "source": [
    "train_data = X_train.copy()\n",
    "train_data['is_fraud'] = y_train\n",
    "\n",
    "train_data_sample = train_data.sample(frac=0.3, random_state=100)\n",
    "\n",
    "null_model = smf.glm(\n",
    "    formula= 'is_fraud ~ 1',\n",
    "    data=train_data_sample,\n",
    "    family=sm.families.Binomial()\n",
    ").fit()\n",
    "\n",
    "final_model = smf.glm(\n",
    "    formula='is_fraud ~ location_Dubai + location_London + transaction_type_withdrawal + transaction_type_transfer + device_used_web + device_used_pos + transaction_type_payment + transaction_type_deposit + device_used_atm + device_used_mobile + payment_channel_wire_transfer + payment_channel_card + payment_channel_ACH + payment_channel_UPI + location_Tokyo + location_Singapore + location_Berlin + location_Sydney + Q(\"location_New York\") + location_Toronto + merchant_category_utilities + merchant_category_restaurant + merchant_category_retail + merchant_category_other + merchant_category_entertainment + merchant_category_online + merchant_category_travel + merchant_category_grocery + geo_anomaly_score + spending_deviation_score + velocity_score + amount',\n",
    "    data=train_data_sample,\n",
    "    family=sm.families.Binomial()\n",
    ").fit()\n",
    "\n",
    "print(final_model.summary())\n"
   ]
  },
  {
   "cell_type": "code",
   "execution_count": 6,
   "id": "605ceff4",
   "metadata": {},
   "outputs": [
    {
     "name": "stdout",
     "output_type": "stream",
     "text": [
      "[[     0 433825]\n",
      " [     0  16175]]\n"
     ]
    }
   ],
   "source": [
    "y_true = train_data_sample['is_fraud']\n",
    "y_pred_prob = final_model.predict(train_data_sample)\n",
    "y_pred = (y_pred_prob > 0.5).astype(int)\n",
    "conf_matrix = confusion_matrix(y_true, y_pred)\n",
    "print(conf_matrix)"
   ]
  }
 ],
 "metadata": {
  "kernelspec": {
   "display_name": ".venv",
   "language": "python",
   "name": "python3"
  },
  "language_info": {
   "codemirror_mode": {
    "name": "ipython",
    "version": 3
   },
   "file_extension": ".py",
   "mimetype": "text/x-python",
   "name": "python",
   "nbconvert_exporter": "python",
   "pygments_lexer": "ipython3",
   "version": "3.13.4"
  }
 },
 "nbformat": 4,
 "nbformat_minor": 5
}
